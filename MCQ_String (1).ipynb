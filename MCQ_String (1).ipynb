{
 "cells": [
  {
   "cell_type": "markdown",
   "id": "45fb5f32",
   "metadata": {},
   "source": [
    "### 1.  What is the data type of print(type(10))\n",
    "* float\n",
    "* integer\n",
    "* int"
   ]
  },
  {
   "cell_type": "code",
   "execution_count": 38,
   "id": "6de5bf45",
   "metadata": {},
   "outputs": [],
   "source": [
    "# Int"
   ]
  },
  {
   "cell_type": "markdown",
   "id": "c9789280",
   "metadata": {},
   "source": [
    "### 2. What is the result of print(type([]) is list)\n",
    "* False\n",
    "* True"
   ]
  },
  {
   "cell_type": "code",
   "execution_count": 39,
   "id": "718bb5e1",
   "metadata": {},
   "outputs": [],
   "source": [
    "# True"
   ]
  },
  {
   "cell_type": "markdown",
   "id": "7b218f40",
   "metadata": {},
   "source": [
    "### 3. str1 = \"PYTHON150\"\n",
    "print(str1[1:4], str1[:5])\n",
    "* PYTH,  PYTHON\n",
    "* PYTH, PYTHO\n",
    "* YTH, PYTHO\n",
    "* Note: Commas only used for display"
   ]
  },
  {
   "cell_type": "code",
   "execution_count": 8,
   "id": "8c2796bf",
   "metadata": {},
   "outputs": [],
   "source": [
    "# YTH, PYTHO"
   ]
  },
  {
   "cell_type": "code",
   "execution_count": null,
   "id": "cca422fc",
   "metadata": {},
   "outputs": [],
   "source": []
  },
  {
   "cell_type": "markdown",
   "id": "cbb504e9",
   "metadata": {},
   "source": [
    "### 4. str1 = \"PYTHON150\"\n",
    "print(str1[4:], str1[0:-1])\n",
    "* N150, PYTHON150\n",
    "* ON150, PYTHON15\n",
    "* ON150, PYTHON150\n",
    "* Note: Commas only used for display"
   ]
  },
  {
   "cell_type": "code",
   "execution_count": 12,
   "id": "f112b7e1",
   "metadata": {},
   "outputs": [],
   "source": [
    "# ON150, PYTHON15"
   ]
  },
  {
   "cell_type": "code",
   "execution_count": null,
   "id": "1529246a",
   "metadata": {},
   "outputs": [],
   "source": []
  },
  {
   "cell_type": "code",
   "execution_count": null,
   "id": "44b51a68",
   "metadata": {},
   "outputs": [],
   "source": []
  },
  {
   "cell_type": "markdown",
   "id": "6cc5b723",
   "metadata": {},
   "source": [
    "### 5. str1 = \"PYTHON150\"\n",
    "print(str1[:-1])\n",
    "* PYTHON150\n",
    "* PYTHON15\n",
    "* PYTHON1\n",
    "* Note: Commas only used for display"
   ]
  },
  {
   "cell_type": "code",
   "execution_count": 13,
   "id": "fe477f25",
   "metadata": {},
   "outputs": [],
   "source": [
    "# PYTHON15"
   ]
  },
  {
   "cell_type": "code",
   "execution_count": null,
   "id": "50446850",
   "metadata": {},
   "outputs": [],
   "source": []
  },
  {
   "cell_type": "markdown",
   "id": "775e3510",
   "metadata": {},
   "source": [
    "### 6.  print(\"John\" > \"Jhon\")\n",
    "### print(\"Emma\" < \"Emm\")\n",
    "* True True\n",
    "* True False\n",
    "* False TRue\n",
    "* False False"
   ]
  },
  {
   "cell_type": "code",
   "execution_count": 16,
   "id": "382f1ab8",
   "metadata": {},
   "outputs": [],
   "source": [
    "# True False"
   ]
  },
  {
   "cell_type": "code",
   "execution_count": null,
   "id": "eb0b28d1",
   "metadata": {},
   "outputs": [],
   "source": []
  },
  {
   "cell_type": "markdown",
   "id": "d8e1fadf",
   "metadata": {},
   "source": [
    "### 7. Strings are immutable in Python, which means a string cannot be modified.\n",
    "* True\n",
    "* False"
   ]
  },
  {
   "cell_type": "code",
   "execution_count": 17,
   "id": "1ce4b0c8",
   "metadata": {},
   "outputs": [],
   "source": [
    "# True"
   ]
  },
  {
   "cell_type": "markdown",
   "id": "950de09c",
   "metadata": {},
   "source": [
    "### 8. str1 = 'Welcome'\n",
    "print (str1[:6] + 'Class')\n",
    "* WelcomClass\n",
    "* WelcomeClass\n",
    "* Welcom Class\n",
    "* Welcome Class"
   ]
  },
  {
   "cell_type": "code",
   "execution_count": 19,
   "id": "c956ee36",
   "metadata": {},
   "outputs": [],
   "source": [
    "# WelcomClass"
   ]
  },
  {
   "cell_type": "code",
   "execution_count": 18,
   "id": "4aa0cc4f",
   "metadata": {},
   "outputs": [
    {
     "name": "stdout",
     "output_type": "stream",
     "text": [
      "WelcomClass\n"
     ]
    }
   ],
   "source": []
  },
  {
   "cell_type": "markdown",
   "id": "fb524bcb",
   "metadata": {},
   "source": [
    "### 9. str = \"how are you all doing\"\n",
    "print (str.capitalize())\n",
    "* How are you all doing\n",
    "* How Are You All Doing"
   ]
  },
  {
   "cell_type": "code",
   "execution_count": 21,
   "id": "4931a47b",
   "metadata": {},
   "outputs": [],
   "source": [
    "# How are you all doing"
   ]
  },
  {
   "cell_type": "markdown",
   "id": "1f8d6806",
   "metadata": {},
   "source": [
    "### 10. str = \"how are you all doing\"\n",
    "print (str.title())\n",
    "* How are you all doing\n",
    "* How Are You All Doing"
   ]
  },
  {
   "cell_type": "code",
   "execution_count": 23,
   "id": "60cb5076",
   "metadata": {},
   "outputs": [],
   "source": [
    "# How Are You All Doing \n"
   ]
  },
  {
   "cell_type": "markdown",
   "id": "858cc8af",
   "metadata": {},
   "source": [
    "### 11. str1 = 'Welcome'\n",
    "print(str1*2)\n",
    "* Welcome Welcome\n",
    "* WelcomeWelcome\n",
    "* TypeError unsupported operand type(s)"
   ]
  },
  {
   "cell_type": "code",
   "execution_count": 41,
   "id": "e07de7ed",
   "metadata": {},
   "outputs": [],
   "source": [
    "# WelcomeWelcome\n"
   ]
  },
  {
   "cell_type": "markdown",
   "id": "a9e763a7",
   "metadata": {},
   "source": [
    "### 12. Random integer between 99 to 200, which is divisible by 3, print the value of a,b,c\n",
    "* random.randrange(a, b, c)\n"
   ]
  },
  {
   "cell_type": "code",
   "execution_count": 42,
   "id": "9dee07f5",
   "metadata": {},
   "outputs": [
    {
     "data": {
      "text/plain": [
       "174"
      ]
     },
     "execution_count": 42,
     "metadata": {},
     "output_type": "execute_result"
    }
   ],
   "source": [
    "import random \n",
    "random.randrange(99,200,3)"
   ]
  },
  {
   "cell_type": "code",
   "execution_count": null,
   "id": "e3903cf6",
   "metadata": {},
   "outputs": [],
   "source": []
  },
  {
   "cell_type": "code",
   "execution_count": null,
   "id": "00c48815",
   "metadata": {},
   "outputs": [],
   "source": []
  },
  {
   "cell_type": "markdown",
   "id": "e35b3547",
   "metadata": {},
   "source": [
    "### 13. What is the output of print(2 ** 3 ** 2)\n",
    "* 64\n",
    "* 512"
   ]
  },
  {
   "cell_type": "code",
   "execution_count": 43,
   "id": "6205bf01",
   "metadata": {},
   "outputs": [
    {
     "data": {
      "text/plain": [
       "512"
      ]
     },
     "execution_count": 43,
     "metadata": {},
     "output_type": "execute_result"
    }
   ],
   "source": [
    "512 #check from right to left, 3 squared then 2 to the ninth"
   ]
  },
  {
   "cell_type": "markdown",
   "id": "8e5f6237",
   "metadata": {},
   "source": [
    "### 14. print(2%6)\n",
    "* ValueError\n",
    "* 0.33\n",
    "* 2"
   ]
  },
  {
   "cell_type": "code",
   "execution_count": 29,
   "id": "5a8ac7bf",
   "metadata": {},
   "outputs": [
    {
     "data": {
      "text/plain": [
       "2"
      ]
     },
     "execution_count": 29,
     "metadata": {},
     "output_type": "execute_result"
    }
   ],
   "source": [
    "2"
   ]
  },
  {
   "cell_type": "code",
   "execution_count": null,
   "id": "9c5eef20",
   "metadata": {},
   "outputs": [],
   "source": []
  },
  {
   "cell_type": "markdown",
   "id": "346a3d03",
   "metadata": {},
   "source": [
    "### 15. What is the output of print(10 - 4 * 2)\n",
    "* 2\n",
    "* 12"
   ]
  },
  {
   "cell_type": "markdown",
   "id": "f4f120ab",
   "metadata": {},
   "source": [
    "2"
   ]
  },
  {
   "cell_type": "code",
   "execution_count": 31,
   "id": "b5b8d4f5",
   "metadata": {},
   "outputs": [
    {
     "data": {
      "text/plain": [
       "2"
      ]
     },
     "execution_count": 31,
     "metadata": {},
     "output_type": "execute_result"
    }
   ],
   "source": [
    "2"
   ]
  },
  {
   "cell_type": "markdown",
   "id": "efca52c9",
   "metadata": {},
   "source": [
    "### 16. for i in \"STR\":\n",
    "     print(i)\n",
    "* STR\n",
    "* S\n",
    "- T\n",
    "- R"
   ]
  },
  {
   "cell_type": "code",
   "execution_count": 34,
   "id": "6c194805",
   "metadata": {},
   "outputs": [],
   "source": [
    "# S\n",
    "# T\n",
    "# R"
   ]
  },
  {
   "cell_type": "markdown",
   "id": "e00807e7",
   "metadata": {},
   "source": [
    "### 17. a=\"Learn\"\n",
    "### while(a):\n",
    "    print(a)\n",
    "* Infinite Loop\n",
    "* L\n",
    "* e\n",
    "* a\n",
    "* r\n",
    "* n"
   ]
  },
  {
   "cell_type": "code",
   "execution_count": 36,
   "id": "1400e7c0",
   "metadata": {},
   "outputs": [],
   "source": [
    "# infinite loop"
   ]
  },
  {
   "cell_type": "code",
   "execution_count": null,
   "id": "250da09f",
   "metadata": {},
   "outputs": [],
   "source": []
  }
 ],
 "metadata": {
  "kernelspec": {
   "display_name": "Python 3 (ipykernel)",
   "language": "python",
   "name": "python3"
  },
  "language_info": {
   "codemirror_mode": {
    "name": "ipython",
    "version": 3
   },
   "file_extension": ".py",
   "mimetype": "text/x-python",
   "name": "python",
   "nbconvert_exporter": "python",
   "pygments_lexer": "ipython3",
   "version": "3.9.12"
  }
 },
 "nbformat": 4,
 "nbformat_minor": 5
}
